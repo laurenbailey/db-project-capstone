{
 "cells": [
  {
   "cell_type": "code",
   "execution_count": 2,
   "id": "1300fa3a",
   "metadata": {},
   "outputs": [
    {
     "name": "stdout",
     "output_type": "stream",
     "text": [
      "Requirement already satisfied: mysql-connector-python in c:\\users\\lbailey\\appdata\\local\\anaconda3\\lib\\site-packages (8.1.0)\n",
      "Requirement already satisfied: protobuf<=4.21.12,>=4.21.1 in c:\\users\\lbailey\\appdata\\local\\anaconda3\\lib\\site-packages (from mysql-connector-python) (4.21.12)\n"
     ]
    }
   ],
   "source": [
    "!pip install mysql-connector-python"
   ]
  },
  {
   "cell_type": "code",
   "execution_count": 3,
   "id": "700252fc",
   "metadata": {},
   "outputs": [],
   "source": [
    "import mysql.connector as connector"
   ]
  },
  {
   "cell_type": "code",
   "execution_count": 4,
   "id": "48ea32ec",
   "metadata": {},
   "outputs": [],
   "source": [
    "connection = connector.connect(user = \"root\", password = \"peerproject\")"
   ]
  },
  {
   "cell_type": "code",
   "execution_count": 5,
   "id": "7515831d",
   "metadata": {},
   "outputs": [],
   "source": [
    "connection = connector.connect(user = \"root\", password = \"peerproject\", db = \"littlelemondb\") "
   ]
  },
  {
   "cell_type": "code",
   "execution_count": 6,
   "id": "7ef75187",
   "metadata": {},
   "outputs": [],
   "source": [
    "cursor = connection.cursor()"
   ]
  },
  {
   "cell_type": "code",
   "execution_count": 7,
   "id": "7aaf4350",
   "metadata": {},
   "outputs": [
    {
     "name": "stdout",
     "output_type": "stream",
     "text": [
      "[('bookings',), ('customers',), ('deliverystatus',), ('menu',), ('menuitems',), ('orders',), ('ordersview',), ('staff',)]\n"
     ]
    }
   ],
   "source": [
    "show_tables_query = \"SHOW tables\" \n",
    "cursor.execute(show_tables_query)\n",
    "results=cursor.fetchall()\n",
    "print(results)"
   ]
  },
  {
   "cell_type": "code",
   "execution_count": 10,
   "id": "2f687431",
   "metadata": {},
   "outputs": [
    {
     "name": "stdout",
     "output_type": "stream",
     "text": [
      "[('Vannesa Man', 1065421895, 'vannessam@gmail.com', '154')]\n"
     ]
    }
   ],
   "source": [
    "query1 = \"\"\"select Customers.FullName, Customers.PhoneNumber, Customers.Email, cast(Orders.Cost as char) as Cost from Customers inner join Orders on Customers.CustomerID = Orders.CustomerID where Orders.Cost > 60\"\"\"\n",
    "cursor.execute(query1)\n",
    "results=cursor.fetchall()\n",
    "print(results)"
   ]
  },
  {
   "cell_type": "code",
   "execution_count": 11,
   "id": "eb5cb05c",
   "metadata": {},
   "outputs": [],
   "source": [
    "connection.close()"
   ]
  },
  {
   "cell_type": "code",
   "execution_count": null,
   "id": "0a3770d5",
   "metadata": {},
   "outputs": [],
   "source": []
  }
 ],
 "metadata": {
  "kernelspec": {
   "display_name": "Python 3 (ipykernel)",
   "language": "python",
   "name": "python3"
  },
  "language_info": {
   "codemirror_mode": {
    "name": "ipython",
    "version": 3
   },
   "file_extension": ".py",
   "mimetype": "text/x-python",
   "name": "python",
   "nbconvert_exporter": "python",
   "pygments_lexer": "ipython3",
   "version": "3.11.4"
  }
 },
 "nbformat": 4,
 "nbformat_minor": 5
}
